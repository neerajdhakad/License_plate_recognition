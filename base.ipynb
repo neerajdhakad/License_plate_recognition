{
 "cells": [
  {
   "cell_type": "code",
   "execution_count": 9,
   "metadata": {},
   "outputs": [
    {
     "name": "stdout",
     "output_type": "stream",
     "text": [
      "Requirement already satisfied: ultralytics in c:\\users\\arpua\\appdata\\local\\programs\\python\\python38\\lib\\site-packages (8.0.194)Note: you may need to restart the kernel to use updated packages.\n"
     ]
    },
    {
     "name": "stderr",
     "output_type": "stream",
     "text": [
      "WARNING: You are using pip version 20.1.1; however, version 23.2.1 is available.\n",
      "You should consider upgrading via the 'c:\\Users\\arpua\\AppData\\Local\\Programs\\Python\\Python38\\python.exe -m pip install --upgrade pip' command.\n"
     ]
    },
    {
     "name": "stdout",
     "output_type": "stream",
     "text": [
      "\n",
      "Requirement already satisfied: requests>=2.23.0 in c:\\users\\arpua\\appdata\\local\\programs\\python\\python38\\lib\\site-packages (from ultralytics) (2.31.0)\n",
      "Requirement already satisfied: py-cpuinfo in c:\\users\\arpua\\appdata\\local\\programs\\python\\python38\\lib\\site-packages (from ultralytics) (9.0.0)\n",
      "Requirement already satisfied: psutil in c:\\users\\arpua\\appdata\\roaming\\python\\python38\\site-packages (from ultralytics) (5.9.5)\n",
      "Requirement already satisfied: torchvision>=0.9.0 in c:\\users\\arpua\\appdata\\local\\programs\\python\\python38\\lib\\site-packages (from ultralytics) (0.16.0)\n",
      "Requirement already satisfied: scipy>=1.4.1 in c:\\users\\arpua\\appdata\\local\\programs\\python\\python38\\lib\\site-packages (from ultralytics) (1.10.1)\n",
      "Requirement already satisfied: pillow>=7.1.2 in c:\\users\\arpua\\appdata\\local\\programs\\python\\python38\\lib\\site-packages (from ultralytics) (9.5.0)\n",
      "Requirement already satisfied: numpy>=1.22.2 in c:\\users\\arpua\\appdata\\local\\programs\\python\\python38\\lib\\site-packages (from ultralytics) (1.24.4)\n",
      "Requirement already satisfied: thop>=0.1.1 in c:\\users\\arpua\\appdata\\local\\programs\\python\\python38\\lib\\site-packages (from ultralytics) (0.1.1.post2209072238)\n",
      "Requirement already satisfied: matplotlib>=3.3.0 in c:\\users\\arpua\\appdata\\local\\programs\\python\\python38\\lib\\site-packages (from ultralytics) (3.7.3)\n",
      "Requirement already satisfied: opencv-python>=4.6.0 in c:\\users\\arpua\\appdata\\local\\programs\\python\\python38\\lib\\site-packages (from ultralytics) (4.8.1.78)\n",
      "Requirement already satisfied: seaborn>=0.11.0 in c:\\users\\arpua\\appdata\\local\\programs\\python\\python38\\lib\\site-packages (from ultralytics) (0.13.0)\n",
      "Requirement already satisfied: torch>=1.8.0 in c:\\users\\arpua\\appdata\\local\\programs\\python\\python38\\lib\\site-packages (from ultralytics) (2.1.0)\n",
      "Requirement already satisfied: tqdm>=4.64.0 in c:\\users\\arpua\\appdata\\local\\programs\\python\\python38\\lib\\site-packages (from ultralytics) (4.66.1)\n",
      "Requirement already satisfied: pyyaml>=5.3.1 in c:\\users\\arpua\\appdata\\local\\programs\\python\\python38\\lib\\site-packages (from ultralytics) (6.0.1)\n",
      "Requirement already satisfied: pandas>=1.1.4 in c:\\users\\arpua\\appdata\\local\\programs\\python\\python38\\lib\\site-packages (from ultralytics) (2.0.3)\n",
      "Requirement already satisfied: idna<4,>=2.5 in c:\\users\\arpua\\appdata\\local\\programs\\python\\python38\\lib\\site-packages (from requests>=2.23.0->ultralytics) (3.4)\n",
      "Requirement already satisfied: urllib3<3,>=1.21.1 in c:\\users\\arpua\\appdata\\local\\programs\\python\\python38\\lib\\site-packages (from requests>=2.23.0->ultralytics) (2.0.6)\n",
      "Requirement already satisfied: certifi>=2017.4.17 in c:\\users\\arpua\\appdata\\local\\programs\\python\\python38\\lib\\site-packages (from requests>=2.23.0->ultralytics) (2023.7.22)\n",
      "Requirement already satisfied: charset-normalizer<4,>=2 in c:\\users\\arpua\\appdata\\local\\programs\\python\\python38\\lib\\site-packages (from requests>=2.23.0->ultralytics) (3.3.0)\n",
      "Requirement already satisfied: kiwisolver>=1.0.1 in c:\\users\\arpua\\appdata\\local\\programs\\python\\python38\\lib\\site-packages (from matplotlib>=3.3.0->ultralytics) (1.4.5)\n",
      "Requirement already satisfied: pyparsing>=2.3.1 in c:\\users\\arpua\\appdata\\local\\programs\\python\\python38\\lib\\site-packages (from matplotlib>=3.3.0->ultralytics) (3.1.1)\n",
      "Requirement already satisfied: python-dateutil>=2.7 in c:\\users\\arpua\\appdata\\local\\programs\\python\\python38\\lib\\site-packages (from matplotlib>=3.3.0->ultralytics) (2.8.2)\n",
      "Requirement already satisfied: fonttools>=4.22.0 in c:\\users\\arpua\\appdata\\local\\programs\\python\\python38\\lib\\site-packages (from matplotlib>=3.3.0->ultralytics) (4.43.1)\n",
      "Requirement already satisfied: packaging>=20.0 in c:\\users\\arpua\\appdata\\local\\programs\\python\\python38\\lib\\site-packages (from matplotlib>=3.3.0->ultralytics) (23.2)\n",
      "Requirement already satisfied: importlib-resources>=3.2.0; python_version < \"3.10\" in c:\\users\\arpua\\appdata\\local\\programs\\python\\python38\\lib\\site-packages (from matplotlib>=3.3.0->ultralytics) (6.1.0)\n",
      "Requirement already satisfied: cycler>=0.10 in c:\\users\\arpua\\appdata\\local\\programs\\python\\python38\\lib\\site-packages (from matplotlib>=3.3.0->ultralytics) (0.12.0)\n",
      "Requirement already satisfied: contourpy>=1.0.1 in c:\\users\\arpua\\appdata\\local\\programs\\python\\python38\\lib\\site-packages (from matplotlib>=3.3.0->ultralytics) (1.1.1)\n",
      "Requirement already satisfied: fsspec in c:\\users\\arpua\\appdata\\local\\programs\\python\\python38\\lib\\site-packages (from torch>=1.8.0->ultralytics) (2023.9.2)\n",
      "Requirement already satisfied: filelock in c:\\users\\arpua\\appdata\\local\\programs\\python\\python38\\lib\\site-packages (from torch>=1.8.0->ultralytics) (3.12.0)\n",
      "Requirement already satisfied: sympy in c:\\users\\arpua\\appdata\\local\\programs\\python\\python38\\lib\\site-packages (from torch>=1.8.0->ultralytics) (1.12)\n",
      "Requirement already satisfied: typing-extensions in c:\\users\\arpua\\appdata\\local\\programs\\python\\python38\\lib\\site-packages (from torch>=1.8.0->ultralytics) (4.7.1)\n",
      "Requirement already satisfied: networkx in c:\\users\\arpua\\appdata\\local\\programs\\python\\python38\\lib\\site-packages (from torch>=1.8.0->ultralytics) (3.1)\n",
      "Requirement already satisfied: jinja2 in c:\\users\\arpua\\appdata\\local\\programs\\python\\python38\\lib\\site-packages (from torch>=1.8.0->ultralytics) (3.1.2)\n",
      "Requirement already satisfied: colorama; platform_system == \"Windows\" in c:\\users\\arpua\\appdata\\local\\programs\\python\\python38\\lib\\site-packages (from tqdm>=4.64.0->ultralytics) (0.4.6)\n",
      "Requirement already satisfied: pytz>=2020.1 in c:\\users\\arpua\\appdata\\local\\programs\\python\\python38\\lib\\site-packages (from pandas>=1.1.4->ultralytics) (2023.3.post1)\n",
      "Requirement already satisfied: tzdata>=2022.1 in c:\\users\\arpua\\appdata\\local\\programs\\python\\python38\\lib\\site-packages (from pandas>=1.1.4->ultralytics) (2023.3)\n",
      "Requirement already satisfied: six>=1.5 in c:\\users\\arpua\\appdata\\local\\programs\\python\\python38\\lib\\site-packages (from python-dateutil>=2.7->matplotlib>=3.3.0->ultralytics) (1.16.0)\n",
      "Requirement already satisfied: zipp>=3.1.0; python_version < \"3.10\" in c:\\users\\arpua\\appdata\\local\\programs\\python\\python38\\lib\\site-packages (from importlib-resources>=3.2.0; python_version < \"3.10\"->matplotlib>=3.3.0->ultralytics) (3.17.0)\n",
      "Requirement already satisfied: mpmath>=0.19 in c:\\users\\arpua\\appdata\\local\\programs\\python\\python38\\lib\\site-packages (from sympy->torch>=1.8.0->ultralytics) (1.3.0)\n",
      "Requirement already satisfied: MarkupSafe>=2.0 in c:\\users\\arpua\\appdata\\local\\programs\\python\\python38\\lib\\site-packages (from jinja2->torch>=1.8.0->ultralytics) (2.1.3)\n"
     ]
    }
   ],
   "source": [
    "pip install ultralytics"
   ]
  },
  {
   "cell_type": "code",
   "execution_count": 10,
   "metadata": {},
   "outputs": [],
   "source": [
    "from ultralytics import YOLO\n",
    "import cv2"
   ]
  },
  {
   "cell_type": "code",
   "execution_count": 11,
   "metadata": {},
   "outputs": [],
   "source": [
    "#loading models\n",
    "objectModel=YOLO('./yolov8n.pt')\n",
    "license_plate_detector=YOLO('./license_plate_detector.pt')"
   ]
  },
  {
   "cell_type": "code",
   "execution_count": 12,
   "metadata": {},
   "outputs": [],
   "source": [
    "#loading video\n",
    "cap=cv2.VideoCapture('./sample.mp4')"
   ]
  },
  {
   "cell_type": "code",
   "execution_count": 14,
   "metadata": {},
   "outputs": [],
   "source": [
    "#reading frames\n",
    "frameNumber=-1\n",
    "ret= True\n",
    "while ret :\n",
    "    frameNumber+=1\n",
    "    ret,frame=cap.read()\n",
    "    if ret and frameNumber<10:\n",
    "        #detect vehicles\n",
    "        detections=objectModel(frame)[0]\n",
    "        # for detection in :\n",
    "        print(detections.boxes)"
   ]
  }
 ],
 "metadata": {
  "kernelspec": {
   "display_name": "Python 3",
   "language": "python",
   "name": "python3"
  },
  "language_info": {
   "codemirror_mode": {
    "name": "ipython",
    "version": 3
   },
   "file_extension": ".py",
   "mimetype": "text/x-python",
   "name": "python",
   "nbconvert_exporter": "python",
   "pygments_lexer": "ipython3",
   "version": "3.8.5"
  }
 },
 "nbformat": 4,
 "nbformat_minor": 2
}
